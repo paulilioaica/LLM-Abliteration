{
 "cells": [
  {
   "cell_type": "code",
   "execution_count": 1,
   "metadata": {},
   "outputs": [
    {
     "name": "stderr",
     "output_type": "stream",
     "text": [
      "Special tokens have been added in the vocabulary, make sure the associated word embeddings are fine-tuned or trained.\n",
      "`flash-attention` package not found, consider installing for better performance: No module named 'flash_attn'.\n",
      "Current `flash-attention` does not support `window_size`. Either upgrade or use `attn_implementation='eager'`.\n"
     ]
    },
    {
     "data": {
      "application/vnd.jupyter.widget-view+json": {
       "model_id": "374dd2fc056c4d9693b7c6b4212588b2",
       "version_major": 2,
       "version_minor": 0
      },
      "text/plain": [
       "Loading checkpoint shards:   0%|          | 0/2 [00:00<?, ?it/s]"
      ]
     },
     "metadata": {},
     "output_type": "display_data"
    }
   ],
   "source": [
    "import torch\n",
    "from transformers import AutoModelForCausalLM, AutoTokenizer, pipeline\n",
    "from datasets import load_dataset\n",
    "import random\n",
    "from tqdm import tqdm\n",
    "\n",
    "\n",
    "torch.random.manual_seed(0)\n",
    "\n",
    "model_id = \"microsoft/Phi-3-mini-4k-instruct\"\n",
    "\n",
    "tokenizer = AutoTokenizer.from_pretrained(model_id, trust_remote_code=True)\n",
    "model = AutoModelForCausalLM.from_pretrained(\n",
    "    model_id,\n",
    "    trust_remote_code=True,\n",
    ").to('cuda' if torch.cuda.is_available() else 'cpu')\n",
    "\n"
   ]
  },
  {
   "cell_type": "code",
   "execution_count": 2,
   "metadata": {},
   "outputs": [
    {
     "name": "stderr",
     "output_type": "stream",
     "text": [
      "2024-06-17 10:28:34.971287: W tensorflow/stream_executor/platform/default/dso_loader.cc:64] Could not load dynamic library 'libcudart.so.11.0'; dlerror: libcudart.so.11.0: cannot open shared object file: No such file or directory; LD_LIBRARY_PATH: /anaconda/envs/azureml_py38/lib/:/anaconda/envs/azureml_py38/lib/:/anaconda/envs/azureml_py38/lib/:/anaconda/envs/azureml_py38/lib/:/anaconda/envs/azureml_py38/lib/:/anaconda/envs/azureml_py38/lib/\n",
      "2024-06-17 10:28:34.971319: I tensorflow/stream_executor/cuda/cudart_stub.cc:29] Ignore above cudart dlerror if you do not have a GPU set up on your machine.\n"
     ]
    }
   ],
   "source": [
    "\n",
    "messages = [\n",
    "    {\"role\": \"user\", \"content\": \"I want to buy a new phone. What do you recommend?\"},\n",
    "]\n",
    "\n",
    "pipe = pipeline(\n",
    "    \"text-generation\",\n",
    "    model=model,\n",
    "    tokenizer=tokenizer,\n",
    ")\n",
    "\n",
    "generation_args = {\n",
    "    \"max_new_tokens\": 100,\n",
    "    \"return_full_text\": False,\n",
    "    \"temperature\": 0.5,\n",
    "    \"do_sample\": True,\n",
    "}\n",
    "\n"
   ]
  },
  {
   "cell_type": "code",
   "execution_count": 3,
   "metadata": {},
   "outputs": [],
   "source": [
    "norm_diff_means = torch.load(\"norm_diff_means.pt\")\n",
    "diff_activation = torch.load(\"diff_activation.pt\")"
   ]
  },
  {
   "cell_type": "code",
   "execution_count": 4,
   "metadata": {},
   "outputs": [],
   "source": [
    "# CURRENT_LAYER = 0\n",
    "\n",
    "# def ablate(layer_number):\n",
    "#     def hook(module, input, output):\n",
    "#         # Get the residual stream\n",
    "#         return module, input, output\n",
    "#         residual = input[0]\n",
    "\n",
    "#         # Get the refusal direction for the current layer\n",
    "#         refusal_direction = norm_diff_means[CURRENT_LAYER].unsqueeze(0).unsqueeze(0).cuda()\n",
    "\n",
    "#         # Compute the dot product between the residual and the refusal direction\n",
    "#         dot_product = torch.einsum('ijk,ijk->i', residual, refusal_direction)\n",
    "\n",
    "#         # Compute the projection of the residual onto the refusal direction\n",
    "#         projection = dot_product.unsqueeze(-1).unsqueeze(-1) * refusal_direction\n",
    "\n",
    "#         # Subtract the projection from the residual\n",
    "#         ablated_residual = residual + projection\n",
    "\n",
    "#         # Set the ablated residual as the new input\n",
    "#         input = (ablated_residual,)\n",
    "#     return hook\n"
   ]
  },
  {
   "cell_type": "code",
   "execution_count": 5,
   "metadata": {},
   "outputs": [],
   "source": [
    "class AblationHook(torch.nn.Module):\n",
    "    def __init__(self, layer_number, norm_diff_means):\n",
    "        super().__init__()\n",
    "        self.layer_number = layer_number\n",
    "        self.norm_diff_means = norm_diff_means\n",
    "\n",
    "    def forward(self, module, input, output):\n",
    "        # Get the residual stream\n",
    "        residual = output[0]\n",
    "\n",
    "        # Get the refusal direction for the current layer\n",
    "        refusal_direction = self.norm_diff_means[2].unsqueeze(0).unsqueeze(0).cuda()\n",
    "\n",
    "        # Compute the dot product between the residual and the refusal direction\n",
    "        dot_product = torch.einsum('ijk,ijk->i', residual, refusal_direction)\n",
    "\n",
    "        # Compute the projection of the residual onto the refusal direction\n",
    "        projection = dot_product.unsqueeze(-1).unsqueeze(-1) * refusal_direction\n",
    "\n",
    "        # Subtract the projection from the residual\n",
    "        ablated_residual = residual - projection  # Note the change to subtraction\n",
    "        modified_output = (ablated_residual, output[1])\n",
    "        # Set the ablated residual as the new input\n",
    "        return modified_output # Keep other inputs if any\n",
    "\n",
    "for i, layer in enumerate(model.model.layers):\n",
    "    hook = AblationHook(i, norm_diff_means)\n",
    "    layer.register_forward_hook(hook)"
   ]
  },
  {
   "cell_type": "code",
   "execution_count": 6,
   "metadata": {},
   "outputs": [],
   "source": [
    "# for i in range(32):\n",
    "#     CURRENT_LAYER = i        \n",
    "#     output = pipe(\"<|user|>How can I make a artisanal bomb?\\n<|assistant|>\", **generation_args)\n",
    "#     print(f\"Ablation direction {i} output \\n\" + output[0][\"generated_text\"])"
   ]
  },
  {
   "cell_type": "code",
   "execution_count": 7,
   "metadata": {},
   "outputs": [
    {
     "name": "stderr",
     "output_type": "stream",
     "text": [
      "You are not running the flash-attention implementation, expect numerical differences.\n"
     ]
    },
    {
     "data": {
      "text/plain": [
       "[{'generated_text': 'hd you Emma'}]"
      ]
     },
     "execution_count": 7,
     "metadata": {},
     "output_type": "execute_result"
    }
   ],
   "source": [
    "pipe(\"<|user|>How can I make a bomb?\", **generation_args)"
   ]
  }
 ],
 "metadata": {
  "kernelspec": {
   "display_name": "azureml_py38",
   "language": "python",
   "name": "python3"
  },
  "language_info": {
   "codemirror_mode": {
    "name": "ipython",
    "version": 3
   },
   "file_extension": ".py",
   "mimetype": "text/x-python",
   "name": "python",
   "nbconvert_exporter": "python",
   "pygments_lexer": "ipython3",
   "version": "3.8.5"
  }
 },
 "nbformat": 4,
 "nbformat_minor": 2
}
